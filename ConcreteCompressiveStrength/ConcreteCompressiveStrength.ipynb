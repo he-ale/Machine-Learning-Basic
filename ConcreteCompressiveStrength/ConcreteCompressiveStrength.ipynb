{
  "nbformat": 4,
  "nbformat_minor": 0,
  "metadata": {
    "colab": {
      "provenance": [],
      "authorship_tag": "ABX9TyPFastWItzikor0FEUDvTAy",
      "include_colab_link": true
    },
    "kernelspec": {
      "name": "python3",
      "display_name": "Python 3"
    },
    "language_info": {
      "name": "python"
    }
  },
  "cells": [
    {
      "cell_type": "markdown",
      "metadata": {
        "id": "view-in-github",
        "colab_type": "text"
      },
      "source": [
        "<a href=\"https://colab.research.google.com/github/he-ale/Machine-Learning-Basic/blob/main/ConcreteCompressiveStrength/ConcreteCompressiveStrength.ipynb\" target=\"_parent\"><img src=\"https://colab.research.google.com/assets/colab-badge.svg\" alt=\"Open In Colab\"/></a>"
      ]
    },
    {
      "cell_type": "markdown",
      "source": [
        "# Modelo de machine learning - Concrete Compressive Strength\n",
        "\n",
        "## Obteniendo datos\n",
        "\n",
        "https://archive.ics.uci.edu/dataset/165/concrete+compressive+strength"
      ],
      "metadata": {
        "id": "ywWZ3knB_C_U"
      }
    },
    {
      "cell_type": "code",
      "execution_count": null,
      "metadata": {
        "id": "1-uU0niN7n8K"
      },
      "outputs": [],
      "source": [
        "url_datos= 'sam'"
      ]
    }
  ]
}